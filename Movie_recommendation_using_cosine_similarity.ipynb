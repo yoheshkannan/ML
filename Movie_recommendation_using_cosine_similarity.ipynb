{
 "cells": [
  {
   "cell_type": "markdown",
   "metadata": {},
   "source": [
    "# Building a plot line based recommender"
   ]
  },
  {
   "cell_type": "markdown",
   "metadata": {},
   "source": [
    " we will use tf-idf scores and cosine scores to build a recommender system that suggest movies based on overviews."
   ]
  },
  {
   "cell_type": "markdown",
   "metadata": {},
   "source": [
    "The task is to build a system that takes in a movie title and outputs a list of movies that has similar plot lines."
   ]
  },
  {
   "cell_type": "code",
   "execution_count": 299,
   "metadata": {},
   "outputs": [],
   "source": [
    "import pandas as pd"
   ]
  },
  {
   "cell_type": "code",
   "execution_count": 300,
   "metadata": {},
   "outputs": [],
   "source": [
    "# Importing Input data\n",
    "df = pd.read_csv(\"movie_overviews.csv\")"
   ]
  },
  {
   "cell_type": "code",
   "execution_count": 301,
   "metadata": {},
   "outputs": [
    {
     "name": "stdout",
     "output_type": "stream",
     "text": [
      "      id                        title  \\\n",
      "0    862                    Toy Story   \n",
      "1   8844                      Jumanji   \n",
      "2  15602             Grumpier Old Men   \n",
      "3  31357            Waiting to Exhale   \n",
      "4  11862  Father of the Bride Part II   \n",
      "\n",
      "                                            overview  \\\n",
      "0  Led by Woody, Andy's toys live happily in his ...   \n",
      "1  When siblings Judy and Peter discover an encha...   \n",
      "2  A family wedding reignites the ancient feud be...   \n",
      "3  Cheated on, mistreated and stepped on, the wom...   \n",
      "4  Just when George Banks has recovered from his ...   \n",
      "\n",
      "                                             tagline  \n",
      "0                                                NaN  \n",
      "1          Roll the dice and unleash the excitement!  \n",
      "2  Still Yelling. Still Fighting. Still Ready for...  \n",
      "3  Friends are the people who let you be yourself...  \n",
      "4  Just When His World Is Back To Normal... He's ...  \n"
     ]
    }
   ],
   "source": [
    "print(df.head())"
   ]
  },
  {
   "cell_type": "code",
   "execution_count": 312,
   "metadata": {},
   "outputs": [
    {
     "name": "stdout",
     "output_type": "stream",
     "text": [
      "id           int64\n",
      "title       object\n",
      "overview    object\n",
      "tagline     object\n",
      "dtype: object\n"
     ]
    }
   ],
   "source": [
    "print(df.dtypes)"
   ]
  },
  {
   "cell_type": "code",
   "execution_count": 302,
   "metadata": {},
   "outputs": [
    {
     "data": {
      "text/plain": [
       "id             0\n",
       "title          0\n",
       "overview      12\n",
       "tagline     2066\n",
       "dtype: int64"
      ]
     },
     "execution_count": 302,
     "metadata": {},
     "output_type": "execute_result"
    }
   ],
   "source": [
    "# To check for missing values\n",
    "df.isna().sum()"
   ]
  },
  {
   "cell_type": "code",
   "execution_count": 303,
   "metadata": {},
   "outputs": [],
   "source": [
    "# To drop missing values and duplicate values\n",
    "df = df.dropna(axis=0).reset_index(drop = True)\n",
    "df = df.drop_duplicates(['title']).reset_index(drop = True)"
   ]
  },
  {
   "cell_type": "code",
   "execution_count": 304,
   "metadata": {},
   "outputs": [],
   "source": [
    "# Building a Tfidf Vectorizeer\n",
    "from sklearn.feature_extraction.text import TfidfVectorizer\n",
    "tfidf = TfidfVectorizer(stop_words=\"english\")"
   ]
  },
  {
   "cell_type": "code",
   "execution_count": 305,
   "metadata": {},
   "outputs": [],
   "source": [
    "# Fitting tfidf vectorizer to the data\n",
    "tfidf_matrix = tfidf.fit_transform(df['overview'])"
   ]
  },
  {
   "cell_type": "code",
   "execution_count": 306,
   "metadata": {},
   "outputs": [],
   "source": [
    "# To compute cosine similarity\n",
    "from sklearn.metrics.pairwise import cosine_similarity\n",
    "sim_score = cosine_similarity(tfidf_matrix, tfidf_matrix)"
   ]
  },
  {
   "cell_type": "code",
   "execution_count": 307,
   "metadata": {},
   "outputs": [
    {
     "name": "stdout",
     "output_type": "stream",
     "text": [
      "title\n",
      "Jumanji                                                  0\n",
      "Grumpier Old Men                                         1\n",
      "Waiting to Exhale                                        2\n",
      "Father of the Bride Part II                              3\n",
      "Heat                                                     4\n",
      "                                                      ... \n",
      "Kingsglaive: Final Fantasy XV                         6838\n",
      "Sharknado 4: The 4th Awakens                          6839\n",
      "Rustom                                                6840\n",
      "Shin Godzilla                                         6841\n",
      "The Beatles: Eight Days a Week - The Touring Years    6842\n",
      "Length: 6843, dtype: int64\n"
     ]
    }
   ],
   "source": [
    "# Create inidices to get the index of the movie title\n",
    "indices = pd.Series(df.index, index=df['title'])\n",
    "print(indices)"
   ]
  },
  {
   "cell_type": "code",
   "execution_count": 308,
   "metadata": {},
   "outputs": [],
   "source": [
    "# function get movie recommendation\n",
    "def get_recommendations(title, sim_score, indices):\n",
    "    # Get index of movie that matches title\n",
    "    idx = indices[title]\n",
    "    # Sort the movies based on the similarity scores\n",
    "    sim_scores = list(enumerate(sim_score[idx]))\n",
    "    sim_scores = sorted(sim_scores,key=lambda x: x[1], reverse=True)\n",
    "    # Get the scores for 10 most similar movies\n",
    "    sim_scores = sim_scores[1:11]\n",
    "    # Get the movie indices\n",
    "    movie_indices = [i[0] for i in sim_scores]\n",
    "    # Return the top 10 most similar movies\n",
    "    return df['title'].iloc[movie_indices]"
   ]
  },
  {
   "cell_type": "code",
   "execution_count": 309,
   "metadata": {},
   "outputs": [
    {
     "name": "stdout",
     "output_type": "stream",
     "text": [
      "6029                      The Dark Knight Rises\n",
      "5760                 Batman: Under the Red Hood\n",
      "4714                              Batman Begins\n",
      "5289                            The Dark Knight\n",
      "6199    Batman: The Dark Knight Returns, Part 1\n",
      "910                              Batman Returns\n",
      "1010                             Batman & Robin\n",
      "6005                           Batman: Year One\n",
      "2108               Batman: Mask of the Phantasm\n",
      "6793                    A Very Murray Christmas\n",
      "Name: title, dtype: object\n"
     ]
    }
   ],
   "source": [
    "# movie recommendation based on story of Batman\n",
    "print(get_recommendations('Batman', sim_score, indices))"
   ]
  },
  {
   "cell_type": "code",
   "execution_count": 310,
   "metadata": {},
   "outputs": [
    {
     "name": "stdout",
     "output_type": "stream",
     "text": [
      "2793     How to Marry a Millionaire\n",
      "3822                   The Hospital\n",
      "5187    I Could Never Be Your Woman\n",
      "2586                         Bounce\n",
      "2802                Crazy/Beautiful\n",
      "2970        The Hotel New Hampshire\n",
      "6626                 American Heist\n",
      "2990                    On the Edge\n",
      "617                           Laura\n",
      "5386                           1984\n",
      "Name: title, dtype: object\n"
     ]
    }
   ],
   "source": [
    "# Movie recommendation based on the story of The prince of Tides(Love)\n",
    "print(get_recommendations('The Prince of Tides', sim_score, indices))"
   ]
  },
  {
   "cell_type": "code",
   "execution_count": 311,
   "metadata": {},
   "outputs": [
    {
     "name": "stdout",
     "output_type": "stream",
     "text": [
      "3553                          The Last Unicorn\n",
      "2924                           Little Monsters\n",
      "3444                              Femme Fatale\n",
      "3675                      The Railway Children\n",
      "3737                                Le Divorce\n",
      "2987                                The Others\n",
      "1843    Little Nemo: Adventures In Slumberland\n",
      "5972                              Freakonomics\n",
      "3309                       Sorry, Wrong Number\n",
      "2969                                 Def-Con 4\n",
      "Name: title, dtype: object\n"
     ]
    }
   ],
   "source": [
    "# movie recommendation based on the story of Black Moon(Adventures)\n",
    "print(get_recommendations('Black Moon', sim_score, indices))"
   ]
  }
 ],
 "metadata": {
  "kernelspec": {
   "display_name": "Python 3",
   "language": "python",
   "name": "python3"
  },
  "language_info": {
   "codemirror_mode": {
    "name": "ipython",
    "version": 3
   },
   "file_extension": ".py",
   "mimetype": "text/x-python",
   "name": "python",
   "nbconvert_exporter": "python",
   "pygments_lexer": "ipython3",
   "version": "3.7.6"
  }
 },
 "nbformat": 4,
 "nbformat_minor": 4
}
