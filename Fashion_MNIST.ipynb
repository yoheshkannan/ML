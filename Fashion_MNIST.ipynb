{
  "nbformat": 4,
  "nbformat_minor": 0,
  "metadata": {
    "colab": {
      "name": "Fashion_MNIST",
      "provenance": [],
      "collapsed_sections": [],
      "toc_visible": true,
      "authorship_tag": "ABX9TyMw3PAlbEgbXrBwlVIqcjEC",
      "include_colab_link": true
    },
    "kernelspec": {
      "name": "python3",
      "display_name": "Python 3"
    },
    "accelerator": "GPU"
  },
  "cells": [
    {
      "cell_type": "markdown",
      "metadata": {
        "id": "view-in-github",
        "colab_type": "text"
      },
      "source": [
        "<a href=\"https://colab.research.google.com/github/yoheshkannan/ML/blob/master/Fashion_MNIST.ipynb\" target=\"_parent\"><img src=\"https://colab.research.google.com/assets/colab-badge.svg\" alt=\"Open In Colab\"/></a>"
      ]
    },
    {
      "cell_type": "markdown",
      "metadata": {
        "id": "KUbwjWER_KYz"
      },
      "source": [
        "Fashion MNIST Classification \n",
        "\n",
        "Fashion mnist is a dataset of Zalando's article images. Each image is a 28 x 28 grayscale image associated with a label from  10 classes."
      ]
    },
    {
      "cell_type": "markdown",
      "metadata": {
        "id": "DXvl_j03_ZfM"
      },
      "source": [
        "1) Data Importing and Preprocesssing"
      ]
    },
    {
      "cell_type": "code",
      "metadata": {
        "id": "WC5rCz3CHtdU"
      },
      "source": [
        "# Import necessary Libraries\n",
        "import keras\n",
        "import matplotlib.pyplot as plt\n",
        "import cv2\n",
        "from keras.datasets import fashion_mnist"
      ],
      "execution_count": 1,
      "outputs": []
    },
    {
      "cell_type": "code",
      "metadata": {
        "id": "4hh57BSQIETV",
        "outputId": "09f3b7ee-6123-4924-fb9e-c63af25ab4df",
        "colab": {
          "base_uri": "https://localhost:8080/",
          "height": 162
        }
      },
      "source": [
        "# Load the dataset\n",
        "(train_X, y_train), (test_X, y_test) = fashion_mnist.load_data()"
      ],
      "execution_count": 2,
      "outputs": [
        {
          "output_type": "stream",
          "text": [
            "Downloading data from https://storage.googleapis.com/tensorflow/tf-keras-datasets/train-labels-idx1-ubyte.gz\n",
            "32768/29515 [=================================] - 0s 0us/step\n",
            "Downloading data from https://storage.googleapis.com/tensorflow/tf-keras-datasets/train-images-idx3-ubyte.gz\n",
            "26427392/26421880 [==============================] - 0s 0us/step\n",
            "Downloading data from https://storage.googleapis.com/tensorflow/tf-keras-datasets/t10k-labels-idx1-ubyte.gz\n",
            "8192/5148 [===============================================] - 0s 0us/step\n",
            "Downloading data from https://storage.googleapis.com/tensorflow/tf-keras-datasets/t10k-images-idx3-ubyte.gz\n",
            "4423680/4422102 [==============================] - 0s 0us/step\n"
          ],
          "name": "stdout"
        }
      ]
    },
    {
      "cell_type": "code",
      "metadata": {
        "id": "Er9pnR5HIW_y",
        "outputId": "81fee6d8-963a-4e0c-df2f-3a16c09a8a7e",
        "colab": {
          "base_uri": "https://localhost:8080/",
          "height": 53
        }
      },
      "source": [
        "# Summarize loaded dataset\n",
        "print('Train: X=%s, y=%s'%(train_X.shape, y_train.shape))\n",
        "print('Test: X=%s, y=%s'%(test_X.shape, y_test.shape))"
      ],
      "execution_count": 3,
      "outputs": [
        {
          "output_type": "stream",
          "text": [
            "Train: X=(60000, 28, 28), y=(60000,)\n",
            "Test: X=(10000, 28, 28), y=(10000,)\n"
          ],
          "name": "stdout"
        }
      ]
    },
    {
      "cell_type": "code",
      "metadata": {
        "id": "RWtZvD2BMbvl",
        "outputId": "b7a00e66-7266-4e14-b154-c6426324c7da",
        "colab": {
          "base_uri": "https://localhost:8080/",
          "height": 53
        }
      },
      "source": [
        "# Description about labels\n",
        "\"\"\"\n",
        "0 - T-shirt/top\n",
        "1 - Trouser\n",
        "2 - Pullover\n",
        "3 - Dress\n",
        "4 - Coat\n",
        "5 - Sandal\n",
        "6 - Shirt\n",
        "7 - Sneaker\n",
        "8 - Bag\n",
        "9 - Ankle boot\n",
        "\"\"\""
      ],
      "execution_count": 4,
      "outputs": [
        {
          "output_type": "execute_result",
          "data": {
            "application/vnd.google.colaboratory.intrinsic+json": {
              "type": "string"
            },
            "text/plain": [
              "'\\n0 - T-shirt/top\\n1 - Trouser\\n2 - Pullover\\n3 - Dress\\n4 - Coat\\n5 - Sandal\\n6 - Shirt\\n7 - Sneaker\\n8 - Bag\\n9 - Ankle boot\\n'"
            ]
          },
          "metadata": {
            "tags": []
          },
          "execution_count": 4
        }
      ]
    },
    {
      "cell_type": "code",
      "metadata": {
        "id": "JD54tnFvKhIO",
        "outputId": "5748d1cf-97a6-4b1e-a260-3f4280444cda",
        "colab": {
          "base_uri": "https://localhost:8080/",
          "height": 268
        }
      },
      "source": [
        "# Plot first few images\n",
        "for i in range(9):\n",
        "\t# define subplot\n",
        "\tplt.subplot(330 + 1 + i)\n",
        "\t# plot raw pixel data\n",
        "\tplt.imshow(train_X[i], cmap=plt.get_cmap('gray'))\n",
        "# show the figure\n",
        "plt.show()"
      ],
      "execution_count": 5,
      "outputs": [
        {
          "output_type": "display_data",
          "data": {
            "image/png": "[encoded data removed]",
            "text/plain": [
              "<Figure size 432x288 with 9 Axes>"
            ]
          },
          "metadata": {
            "tags": [],
            "needs_background": "light"
          }
        }
      ]
    },
    {
      "cell_type": "code",
      "metadata": {
        "id": "W9ElENceLaQg",
        "outputId": "b283e66e-3ccd-46ef-ab21-4a3eee7b0195",
        "colab": {
          "base_uri": "https://localhost:8080/",
          "height": 181
        }
      },
      "source": [
        "# Display labels of that respective images\n",
        "for i in range(9):\n",
        "  print(y_train[i])"
      ],
      "execution_count": 6,
      "outputs": [
        {
          "output_type": "stream",
          "text": [
            "9\n",
            "0\n",
            "0\n",
            "3\n",
            "0\n",
            "2\n",
            "7\n",
            "2\n",
            "5\n"
          ],
          "name": "stdout"
        }
      ]
    },
    {
      "cell_type": "code",
      "metadata": {
        "id": "9B7uRLxwL-tD"
      },
      "source": [
        "# convert y labels into categorical\n",
        "from keras.utils import to_categorical\n",
        "y_train = to_categorical(y_train)\n",
        "y_test = to_categorical(y_test)"
      ],
      "execution_count": 7,
      "outputs": []
    },
    {
      "cell_type": "code",
      "metadata": {
        "id": "iMf2IMoGQCOq"
      },
      "source": [
        "# Function to preprocess(normalizing, reshaping)\n",
        "def preprocess(train, test):\n",
        "  train_norm = train.astype('float32')\n",
        "  test_norm = train.astype('float32')\n",
        "  train_norm = train.reshape((train.shape[0],28,28,1))\n",
        "  test_norm = test.reshape((test.shape[0],28,28,1))\n",
        "  # normalize to range 0-1\n",
        "  train_norm = train_norm / 255.0\n",
        "  test_norm = test_norm / 255.0\n",
        "  return train_norm, test_norm"
      ],
      "execution_count": 8,
      "outputs": []
    },
    {
      "cell_type": "code",
      "metadata": {
        "id": "1DAfkBVCSW_Y"
      },
      "source": [
        "X_train, X_test = preprocess(train_X, test_X)"
      ],
      "execution_count": 9,
      "outputs": []
    },
    {
      "cell_type": "markdown",
      "metadata": {
        "id": "vWW4S6S-_g0P"
      },
      "source": [
        "2) Building a CNN Model "
      ]
    },
    {
      "cell_type": "code",
      "metadata": {
        "id": "YbWiJ1UvSezA"
      },
      "source": [
        "# Import require libraries\n",
        "from keras.models import Sequential\n",
        "from keras.layers import Dense\n",
        "from keras.layers import Flatten\n",
        "from keras.layers import Conv2D, Dropout\n",
        "from keras.layers import MaxPooling2D"
      ],
      "execution_count": 10,
      "outputs": []
    },
    {
      "cell_type": "code",
      "metadata": {
        "id": "z1QzsdeyTVeg"
      },
      "source": [
        "# Building a Model\n",
        "model = Sequential()\n",
        "model.add(Conv2D(64, kernel_size=(3,3), activation='relu',input_shape=(28,28,1)))\n",
        "model.add(MaxPooling2D((2,2)))\n",
        "model.add(Dropout(0.2))\n",
        "model.add(Conv2D(128, kernel_size=(3,3),activation='relu'))\n",
        "model.add(MaxPooling2D((2,2)))\n",
        "model.add(Dropout(0.2))\n",
        "model.add(Flatten())\n",
        "model.add(Dense(100,activation='relu'))\n",
        "model.add(Dropout(0.3))\n",
        "model.add(Dense(10, activation='softmax'))\n",
        "model.compile(optimizer='Adam', loss='categorical_crossentropy', metrics=['accuracy'])"
      ],
      "execution_count": 11,
      "outputs": []
    },
    {
      "cell_type": "code",
      "metadata": {
        "id": "pDeQS9c6WO45",
        "outputId": "0958dabc-8ead-496d-f493-aef53203e62e",
        "colab": {
          "base_uri": "https://localhost:8080/",
          "height": 526
        }
      },
      "source": [
        "# Summary of the model\n",
        "model.summary()"
      ],
      "execution_count": 12,
      "outputs": [
        {
          "output_type": "stream",
          "text": [
            "Model: \"sequential\"\n",
            "_________________________________________________________________\n",
            "Layer (type)                 Output Shape              Param #   \n",
            "=================================================================\n",
            "conv2d (Conv2D)              (None, 26, 26, 64)        640       \n",
            "_________________________________________________________________\n",
            "max_pooling2d (MaxPooling2D) (None, 13, 13, 64)        0         \n",
            "_________________________________________________________________\n",
            "dropout (Dropout)            (None, 13, 13, 64)        0         \n",
            "_________________________________________________________________\n",
            "conv2d_1 (Conv2D)            (None, 11, 11, 128)       73856     \n",
            "_________________________________________________________________\n",
            "max_pooling2d_1 (MaxPooling2 (None, 5, 5, 128)         0         \n",
            "_________________________________________________________________\n",
            "dropout_1 (Dropout)          (None, 5, 5, 128)         0         \n",
            "_________________________________________________________________\n",
            "flatten (Flatten)            (None, 3200)              0         \n",
            "_________________________________________________________________\n",
            "dense (Dense)                (None, 100)               320100    \n",
            "_________________________________________________________________\n",
            "dropout_2 (Dropout)          (None, 100)               0         \n",
            "_________________________________________________________________\n",
            "dense_1 (Dense)              (None, 10)                1010      \n",
            "=================================================================\n",
            "Total params: 395,606\n",
            "Trainable params: 395,606\n",
            "Non-trainable params: 0\n",
            "_________________________________________________________________\n"
          ],
          "name": "stdout"
        }
      ]
    },
    {
      "cell_type": "code",
      "metadata": {
        "id": "eyDExWEqWafF",
        "outputId": "37c4d5d3-1790-44a0-8f60-1760527d1974",
        "colab": {
          "base_uri": "https://localhost:8080/",
          "height": 562
        }
      },
      "source": [
        "# fitting the model\n",
        "hist = model.fit(X_train, y_train, epochs=15, batch_size=32, validation_data = (X_test, y_test))"
      ],
      "execution_count": 13,
      "outputs": [
        {
          "output_type": "stream",
          "text": [
            "Epoch 1/15\n",
            "1875/1875 [==============================] - 8s 4ms/step - loss: 0.5288 - accuracy: 0.8066 - val_loss: 0.3602 - val_accuracy: 0.8695\n",
            "Epoch 2/15\n",
            "1875/1875 [==============================] - 8s 4ms/step - loss: 0.3571 - accuracy: 0.8709 - val_loss: 0.3038 - val_accuracy: 0.8886\n",
            "Epoch 3/15\n",
            "1875/1875 [==============================] - 8s 4ms/step - loss: 0.3142 - accuracy: 0.8844 - val_loss: 0.2814 - val_accuracy: 0.8970\n",
            "Epoch 4/15\n",
            "1875/1875 [==============================] - 8s 4ms/step - loss: 0.2862 - accuracy: 0.8950 - val_loss: 0.2779 - val_accuracy: 0.8973\n",
            "Epoch 5/15\n",
            "1875/1875 [==============================] - 8s 4ms/step - loss: 0.2671 - accuracy: 0.9020 - val_loss: 0.2701 - val_accuracy: 0.8982\n",
            "Epoch 6/15\n",
            "1875/1875 [==============================] - 8s 5ms/step - loss: 0.2520 - accuracy: 0.9064 - val_loss: 0.2496 - val_accuracy: 0.9087\n",
            "Epoch 7/15\n",
            "1875/1875 [==============================] - 8s 5ms/step - loss: 0.2395 - accuracy: 0.9100 - val_loss: 0.2568 - val_accuracy: 0.9066\n",
            "Epoch 8/15\n",
            "1875/1875 [==============================] - 8s 4ms/step - loss: 0.2269 - accuracy: 0.9144 - val_loss: 0.2525 - val_accuracy: 0.9068\n",
            "Epoch 9/15\n",
            "1875/1875 [==============================] - 8s 4ms/step - loss: 0.2195 - accuracy: 0.9179 - val_loss: 0.2525 - val_accuracy: 0.9066\n",
            "Epoch 10/15\n",
            "1875/1875 [==============================] - 8s 4ms/step - loss: 0.2100 - accuracy: 0.9212 - val_loss: 0.2516 - val_accuracy: 0.9131\n",
            "Epoch 11/15\n",
            "1875/1875 [==============================] - 8s 4ms/step - loss: 0.2037 - accuracy: 0.9234 - val_loss: 0.2460 - val_accuracy: 0.9132\n",
            "Epoch 12/15\n",
            "1875/1875 [==============================] - 8s 4ms/step - loss: 0.1991 - accuracy: 0.9236 - val_loss: 0.2394 - val_accuracy: 0.9155\n",
            "Epoch 13/15\n",
            "1875/1875 [==============================] - 8s 4ms/step - loss: 0.1925 - accuracy: 0.9277 - val_loss: 0.2514 - val_accuracy: 0.9102\n",
            "Epoch 14/15\n",
            "1875/1875 [==============================] - 8s 4ms/step - loss: 0.1868 - accuracy: 0.9294 - val_loss: 0.2401 - val_accuracy: 0.9176\n",
            "Epoch 15/15\n",
            "1875/1875 [==============================] - 8s 4ms/step - loss: 0.1815 - accuracy: 0.9310 - val_loss: 0.2565 - val_accuracy: 0.9127\n"
          ],
          "name": "stdout"
        }
      ]
    },
    {
      "cell_type": "markdown",
      "metadata": {
        "id": "bcdNM7e2_5vu"
      },
      "source": [
        "3) Model Evaluation"
      ]
    },
    {
      "cell_type": "code",
      "metadata": {
        "id": "DUPRzKqIW4kR",
        "outputId": "a7d18a63-75ca-4e58-a904-400021c3314c",
        "colab": {
          "base_uri": "https://localhost:8080/",
          "height": 295
        }
      },
      "source": [
        "# plot training_loss vs validation_loss\n",
        "plt.plot(hist.history['loss'])\n",
        "plt.plot(hist.history['val_loss'])\n",
        "plt.title('Model Loss')\n",
        "plt.xlabel('Epochs')\n",
        "plt.ylabel('Loss')\n",
        "plt.legend(['Training_Loss', 'Validation_loss'])\n",
        "plt.show()"
      ],
      "execution_count": 14,
      "outputs": [
        {
          "output_type": "display_data",
          "data": {
            "image/png": "[encoded data removed]",
            "text/plain": [
              "<Figure size 432x288 with 1 Axes>"
            ]
          },
          "metadata": {
            "tags": [],
            "needs_background": "light"
          }
        }
      ]
    },
    {
      "cell_type": "code",
      "metadata": {
        "id": "y8zoRBfFXz25",
        "outputId": "cf92ce25-e18c-4a7e-869c-16fd4d590222",
        "colab": {
          "base_uri": "https://localhost:8080/",
          "height": 295
        }
      },
      "source": [
        "# plot training_accuracy vs validation_accuracy\n",
        "plt.plot(hist.history['accuracy'])\n",
        "plt.plot(hist.history['val_accuracy'])\n",
        "plt.title('Model Accuracy')\n",
        "plt.xlabel('Epochs')\n",
        "plt.ylabel('Accuracy')\n",
        "plt.legend(['Training_Accuracy', 'Validation_Accuracy'])\n",
        "plt.show()"
      ],
      "execution_count": 15,
      "outputs": [
        {
          "output_type": "display_data",
          "data": {
            "image/png": "[encoded data removed]",
            "text/plain": [
              "<Figure size 432x288 with 1 Axes>"
            ]
          },
          "metadata": {
            "tags": [],
            "needs_background": "light"
          }
        }
      ]
    },
    {
      "cell_type": "code",
      "metadata": {
        "id": "seL0gLtWxzXl",
        "outputId": "9b96b416-ea3c-446e-da6b-5d14622d743b",
        "colab": {
          "base_uri": "https://localhost:8080/",
          "height": 72
        }
      },
      "source": [
        "# Model evaluation on test set\n",
        "test_loss, test_acc = model.evaluate(X_test, y_test)\n",
        "print('test_loss: ',test_loss)\n",
        "print('test_accuracy: ',test_acc)"
      ],
      "execution_count": 18,
      "outputs": [
        {
          "output_type": "stream",
          "text": [
            "313/313 [==============================] - 1s 3ms/step - loss: 0.2565 - accuracy: 0.9127\n",
            "test_loss:  0.25654420256614685\n",
            "test_accuracy:  0.9126999974250793\n"
          ],
          "name": "stdout"
        }
      ]
    },
    {
      "cell_type": "markdown",
      "metadata": {
        "id": "g28T6GtkABT6"
      },
      "source": [
        "4) Prediction"
      ]
    },
    {
      "cell_type": "code",
      "metadata": {
        "id": "V9MgsTzKU_8I"
      },
      "source": [
        "# Prediction\n",
        "from keras.preprocessing.image import load_img\n",
        "from keras.preprocessing.image import img_to_array\n",
        "# Function to load image for prediction\n",
        "def load_image(img):\n",
        "  img = load_img(img, grayscale = True, target_size=(28,28))\n",
        "  img = img_to_array(img)\n",
        "  img = img.reshape(1,28,28,1)\n",
        "  img = img.astype('float32')\n",
        "  img = img / 255.0\n",
        "  return img"
      ],
      "execution_count": 19,
      "outputs": []
    },
    {
      "cell_type": "code",
      "metadata": {
        "id": "ZyYcz0PZYJR5"
      },
      "source": [
        "# Function to predict classes of that image\n",
        "def make_prediction(img):\n",
        "  img = load_image(img)\n",
        "  result = model.predict_classes(img)\n",
        "  print('The Predicted Classs is: ',result[0])"
      ],
      "execution_count": 24,
      "outputs": []
    },
    {
      "cell_type": "code",
      "metadata": {
        "id": "4B_YZqmuzwx0"
      },
      "source": [
        "# Function to load the original image and its class\n",
        "def load_original_image(img,label):\n",
        "  pred = plt.imread(img)\n",
        "  plt.imshow(pred)\n",
        "  plt.show()\n",
        "  print('The original Class is : '+label)"
      ],
      "execution_count": 31,
      "outputs": []
    },
    {
      "cell_type": "code",
      "metadata": {
        "id": "a4O5USq21mxv",
        "outputId": "abfb7ec7-b6c0-4e93-ca9d-6c7cf78df7d6",
        "colab": {
          "base_uri": "https://localhost:8080/",
          "height": 287
        }
      },
      "source": [
        "load_original_image('sample_image.png','2')"
      ],
      "execution_count": 32,
      "outputs": [
        {
          "output_type": "display_data",
          "data": {
            "image/png": "[encoded data removed]",
            "text/plain": [
              "<Figure size 432x288 with 1 Axes>"
            ]
          },
          "metadata": {
            "tags": [],
            "needs_background": "light"
          }
        },
        {
          "output_type": "stream",
          "text": [
            "The original Class is : 2\n"
          ],
          "name": "stdout"
        }
      ]
    },
    {
      "cell_type": "code",
      "metadata": {
        "id": "RmOT6r01YoRb",
        "outputId": "5bf46457-a4d1-47bf-bff3-e514a44d3a64",
        "colab": {
          "base_uri": "https://localhost:8080/",
          "height": 92
        }
      },
      "source": [
        "make_prediction('sample_image.png')"
      ],
      "execution_count": 33,
      "outputs": [
        {
          "output_type": "stream",
          "text": [
            "The Predicted Classs is:  2\n"
          ],
          "name": "stdout"
        },
        {
          "output_type": "stream",
          "text": [
            "/usr/local/lib/python3.6/dist-packages/keras_preprocessing/image/utils.py:107: UserWarning: grayscale is deprecated. Please use color_mode = \"grayscale\"\n",
            "  warnings.warn('grayscale is deprecated. Please use '\n"
          ],
          "name": "stderr"
        }
      ]
    },
    {
      "cell_type": "code",
      "metadata": {
        "id": "Tjw1onklzZaN",
        "outputId": "4afadb96-1025-4200-803e-e6498526d252",
        "colab": {
          "base_uri": "https://localhost:8080/",
          "height": 287
        }
      },
      "source": [
        "load_original_image('sample_image2.png','9')"
      ],
      "execution_count": 35,
      "outputs": [
        {
          "output_type": "display_data",
          "data": {
            "image/png": "[encoded data removed]",
            "text/plain": [
              "<Figure size 432x288 with 1 Axes>"
            ]
          },
          "metadata": {
            "tags": [],
            "needs_background": "light"
          }
        },
        {
          "output_type": "stream",
          "text": [
            "The original Class is : 9\n"
          ],
          "name": "stdout"
        }
      ]
    },
    {
      "cell_type": "code",
      "metadata": {
        "id": "Q5oyLQBh12HF",
        "outputId": "8744f1af-8f47-4f05-eaa7-13ca6249217b",
        "colab": {
          "base_uri": "https://localhost:8080/",
          "height": 92
        }
      },
      "source": [
        "make_prediction('sample_image2.png')"
      ],
      "execution_count": 36,
      "outputs": [
        {
          "output_type": "stream",
          "text": [
            "The Predicted Classs is:  8\n"
          ],
          "name": "stdout"
        },
        {
          "output_type": "stream",
          "text": [
            "/usr/local/lib/python3.6/dist-packages/keras_preprocessing/image/utils.py:107: UserWarning: grayscale is deprecated. Please use color_mode = \"grayscale\"\n",
            "  warnings.warn('grayscale is deprecated. Please use '\n"
          ],
          "name": "stderr"
        }
      ]
    },
    {
      "cell_type": "code",
      "metadata": {
        "id": "xI52zjp52B3K",
        "outputId": "464efdb1-9699-452b-fbc4-0f095311a715",
        "colab": {
          "base_uri": "https://localhost:8080/",
          "height": 287
        }
      },
      "source": [
        "load_original_image('sample_image3.png','6')"
      ],
      "execution_count": 37,
      "outputs": [
        {
          "output_type": "display_data",
          "data": {
            "image/png": "[encoded data removed]",
            "text/plain": [
              "<Figure size 432x288 with 1 Axes>"
            ]
          },
          "metadata": {
            "tags": [],
            "needs_background": "light"
          }
        },
        {
          "output_type": "stream",
          "text": [
            "The original Class is : 6\n"
          ],
          "name": "stdout"
        }
      ]
    },
    {
      "cell_type": "code",
      "metadata": {
        "id": "rGWiaiPL2qfl",
        "outputId": "fff34d8e-6989-48d1-c241-0b677d0a27fb",
        "colab": {
          "base_uri": "https://localhost:8080/",
          "height": 92
        }
      },
      "source": [
        "make_prediction('sample_image3.png')"
      ],
      "execution_count": 38,
      "outputs": [
        {
          "output_type": "stream",
          "text": [
            "The Predicted Classs is:  6\n"
          ],
          "name": "stdout"
        },
        {
          "output_type": "stream",
          "text": [
            "/usr/local/lib/python3.6/dist-packages/keras_preprocessing/image/utils.py:107: UserWarning: grayscale is deprecated. Please use color_mode = \"grayscale\"\n",
            "  warnings.warn('grayscale is deprecated. Please use '\n"
          ],
          "name": "stderr"
        }
      ]
    }
  ]
}